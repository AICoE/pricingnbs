{
 "cells": [
  {
   "cell_type": "code",
   "execution_count": 1,
   "metadata": {},
   "outputs": [],
   "source": [
    "%load_ext autoreload\n",
    "%autoreload 2\n",
    "%matplotlib inline"
   ]
  },
  {
   "cell_type": "markdown",
   "metadata": {},
   "source": [
    "### Imports"
   ]
  },
  {
   "cell_type": "code",
   "execution_count": 2,
   "metadata": {},
   "outputs": [],
   "source": [
    "import numpy as np\n",
    "import pandas as pd\n",
    "from sklearn.cluster import KMeans\n",
    "from sklearn.preprocessing import StandardScaler\n",
    "from sklearn.linear_model import LinearRegression\n",
    "import multiprocessing as mp\n",
    "import os\n",
    "\n",
    "from torchvision.datasets import MNIST\n",
    "\n",
    "from profilehooks import profile\n",
    "import matplotlib.pylab as plt"
   ]
  },
  {
   "cell_type": "markdown",
   "metadata": {},
   "source": [
    "#### Get number of threads and choose range of number of clusters"
   ]
  },
  {
   "cell_type": "code",
   "execution_count": 16,
   "metadata": {},
   "outputs": [
    {
     "name": "stdout",
     "output_type": "stream",
     "text": [
      "Can use 12 threads\n"
     ]
    }
   ],
   "source": [
    "with open('/proc/cpuinfo') as f:\n",
    "    lines = f.readlines()\n",
    "    N_PROC = len([l for l in lines if l.lower().find('processor')>-1])\n",
    "print(f'Can use {N_PROC} threads')\n",
    "\n",
    "N_CLUSTER_LOW = 5\n",
    "N_CLUSTER_HIGH = 25\n",
    "N_INIT = int(100 / (12 / N_PROC))"
   ]
  },
  {
   "cell_type": "markdown",
   "metadata": {},
   "source": [
    "### Workload\n",
    "\n",
    "This workload runs K-means clustering on the MNIST dataset for a range of n_cluster values. The idea is to see how well a simple clustering on raw pixel values segments the data since we have labels. There are no embeddings of the data using a neural network and no feature transformations apart from scaling each feature to mean = 0 and standard deviation = 1.\n",
    "\n",
    "Note that K-means is run on the full dataset for a range of n_cluster values. In addition, for each n_cluster value, by default, scikit-learn's implementation runs the algorithm n_init = 10 times with different random initializations of the cluster locations. Each of these runs is distributed across all available threads by scikit-learn. In addition, we run the range of cluster_values in parallel using multiple threads."
   ]
  },
  {
   "cell_type": "code",
   "execution_count": 4,
   "metadata": {},
   "outputs": [],
   "source": [
    "data = MNIST('./', download=True)"
   ]
  },
  {
   "cell_type": "code",
   "execution_count": 5,
   "metadata": {},
   "outputs": [
    {
     "name": "stdout",
     "output_type": "stream",
     "text": [
      "(60000, 784)\n"
     ]
    }
   ],
   "source": [
    "#flatten each image\n",
    "data = data.train_data.numpy().reshape(data.train_data.shape[0], -1).astype(np.float32)\n",
    "print(data.shape)"
   ]
  },
  {
   "cell_type": "code",
   "execution_count": 6,
   "metadata": {},
   "outputs": [],
   "source": [
    "class Cluster:\n",
    "    def __init__(self, data,                \n",
    "                 n_clusters_low=2, \n",
    "                 n_clusters_high=50, \n",
    "                 n_clusters_stepsize=5, \n",
    "                 n_processes=None):\n",
    "\n",
    "        self.data = data.copy()\n",
    "\n",
    "        self.data_normalized = None  # zscore -> pca -> zscore\n",
    "\n",
    "        #clustering scan\n",
    "        self.n_clusters_low = n_clusters_low\n",
    "        self.n_clusters_high = n_clusters_high\n",
    "        self.n_clusters_stepsize = n_clusters_stepsize\n",
    "        self.n_processes = n_processes\n",
    "\n",
    "        self.models_dict = None\n",
    "        self.inertia_dict = None\n",
    "\n",
    "        #clustering optimal\n",
    "        self.n_clusters_optimal = None\n",
    "        self.kmeans_optimal = None\n",
    "\n",
    "    @profile(immediate=True)\n",
    "    def train(self):\n",
    "        self.preprocess_normalize()\n",
    "\n",
    "        if self.n_processes is None:\n",
    "            self.find_nclusters()\n",
    "        else:\n",
    "            self.find_nclusters_parallel()\n",
    "\n",
    "        #self.find_elbow()  # hard-coded currently\n",
    "\n",
    "\n",
    "    def preprocess_normalize(self):        \n",
    "        self.scaler = StandardScaler()\n",
    "        self.data_normalized = self.scaler.fit_transform(self.data)\n",
    "\n",
    "    def find_nclusters(self):\n",
    "        print('Calling find_nclusters...')\n",
    "        if self.data_normalized is None:\n",
    "            raise AttributeError(\"Please call preprocess_normalize to prepare data for clustering.\")\n",
    "\n",
    "        self.inertia_dict, self.models_dict = {}, {}\n",
    "        for ncl in range(self.n_clusters_low, self.n_clusters_high, self.n_clusters_stepsize):\n",
    "            kmeans = KMeans(n_clusters=ncl, n_init=N_INIT)\n",
    "            kmeans.fit(self.data_normalized)\n",
    "\n",
    "            self.inertia_dict[ncl] = kmeans.inertia_\n",
    "            self.models_dict[ncl] = kmeans\n",
    "\n",
    "    def find_nclusters_parallel(self):\n",
    "        print('Calling find_nclusters_parallel...')\n",
    "        manager = mp.Manager()\n",
    "        models_shared_dict = manager.dict()\n",
    "        inertia_shared_dict = manager.dict()\n",
    "\n",
    "        proc_list = []\n",
    "        counter = 0\n",
    "        def run(data, ncl):\n",
    "            kmeans = KMeans(n_clusters=ncl, n_init=N_INIT)\n",
    "            kmeans.fit(data)\n",
    "\n",
    "            inertia_shared_dict[ncl] = kmeans.inertia_\n",
    "            models_shared_dict[ncl] = kmeans\n",
    "\n",
    "        for ncl in range(self.n_clusters_low, self.n_clusters_high, self.n_clusters_stepsize):\n",
    "            proc = mp.Process(target=run, args=(self.data_normalized, ncl,))\n",
    "            proc.start()\n",
    "            proc_list.append(proc)\n",
    "            counter += 1\n",
    "\n",
    "            if counter % self.n_processes == 0:\n",
    "                [p.join() for p in  proc_list]\n",
    "                proc_list = []\n",
    "\n",
    "        [p.join() for p in proc_list]\n",
    "\n",
    "        self.inertia_dict = dict(inertia_shared_dict)\n",
    "        self.models_dict = dict(models_shared_dict)\n",
    "    \n",
    "    def find_elbow(self):\n",
    "        if self.inertia_dict is None:\n",
    "            raise AttributeError(\"Please run find_nclusters to populated inertia_dict.\")\n",
    "        \n",
    "        keys = np.sort(list(self.inertia_dict.keys()))\n",
    "        values = np.array([self.inertia_dict[k] for k in keys])\n",
    "\n",
    "        N = len(keys)\n",
    "\n",
    "        thresholds = np.arange(2, N-1) #indices to slice at\n",
    "\n",
    "        threshold_cuts, score_means = [], []\n",
    "\n",
    "        for t in thresholds:\n",
    "            model1, model2 = LinearRegression(), LinearRegression()\n",
    "\n",
    "            domain1 = np.arange(t)\n",
    "            domain2 = np.arange(t, N)\n",
    "            \n",
    "            model1.fit(keys[domain1].reshape(-1,1), values[domain1])\n",
    "            model2.fit(keys[domain2].reshape(-1,1), values[domain2])\n",
    "\n",
    "            score1 = model1.score(keys[domain1].reshape(-1,1), values[domain1])\n",
    "            score2 = model2.score(keys[domain2].reshape(-1,1), values[domain2])\n",
    "\n",
    "            score = (score1+score2)/2.0\n",
    "            \n",
    "            threshold_cuts.append(keys[t])\n",
    "            score_means.append(score)\n",
    "\n",
    "        self.n_clusters_optimal = threshold_cuts[np.argmax(score_means)]\n",
    "\n",
    "        return threshold_cuts, score_means\n"
   ]
  },
  {
   "cell_type": "markdown",
   "metadata": {},
   "source": [
    "### Some run times\n",
    "\n",
    "n_clusters_low = 5, n_clusters_high = 6,  n_processes = None : ~65 seconds\n",
    "\n",
    "n_clusters_low = 5, n_clusters_high = 6,  n_processes = 10   : ~70 seconds\n",
    "\n",
    "n_clusters_low = 5, n_clusters_high = 15, n_processes = None : ~963 seconds\n",
    "\n",
    "n_clusters_low = 5, n_clusters_high = 15, n_processes = 10   : ~207 seconds"
   ]
  },
  {
   "cell_type": "code",
   "execution_count": 7,
   "metadata": {},
   "outputs": [
    {
     "name": "stdout",
     "output_type": "stream",
     "text": [
      "Calling find_nclusters_parallel...\n",
      "\n",
      "*** PROFILER RESULTS ***\n",
      "train (<ipython-input-6-9982fd8e51fa>:25)\n",
      "function called 1 times\n",
      "\n",
      "         7338 function calls (7273 primitive calls) in 4832.514 seconds\n",
      "\n",
      "   Ordered by: cumulative time, internal time, call count\n",
      "   List reduced from 366 to 40 due to restriction <40>\n",
      "\n",
      "   ncalls  tottime  percall  cumtime  percall filename:lineno(function)\n",
      "        1    0.000    0.000 4832.514 4832.514 <ipython-input-6-9982fd8e51fa>:25(train)\n",
      "        1    0.002    0.002 4831.479 4831.479 <ipython-input-6-9982fd8e51fa>:54(find_nclusters_parallel)\n",
      "       21    0.000    0.000 4830.665  230.032 process.py:118(join)\n",
      "       21    0.000    0.000 4830.664  230.032 popen_fork.py:43(wait)\n",
      "      137    0.000    0.000 4830.657   35.260 popen_fork.py:24(poll)\n",
      "      136 4830.656   35.520 4830.656   35.520 {built-in method posix.waitpid}\n",
      "        1    0.000    0.000 2537.727 2537.727 <ipython-input-6-9982fd8e51fa>:76(<listcomp>)\n",
      "        1    0.000    0.000 2292.926 2292.926 <ipython-input-6-9982fd8e51fa>:79(<listcomp>)\n",
      "        1    0.000    0.000    1.021    1.021 <ipython-input-6-9982fd8e51fa>:37(preprocess_normalize)\n",
      "        1    0.000    0.000    1.021    1.021 base.py:438(fit_transform)\n",
      "       21    0.004    0.000    0.804    0.038 process.py:95(start)\n",
      "       21    0.001    0.000    0.795    0.038 context.py:274(_Popen)\n",
      "       21    0.001    0.000    0.793    0.038 popen_fork.py:16(__init__)\n",
      "       20    0.001    0.000    0.774    0.039 context.py:221(_Popen)\n",
      "       21    0.011    0.001    0.747    0.036 popen_fork.py:63(_launch)\n",
      "        1    0.006    0.006    0.740    0.740 data.py:610(fit)\n",
      "        1    0.000    0.000    0.733    0.733 data.py:627(partial_fit)\n",
      "       21    0.722    0.034    0.722    0.034 {built-in method posix.fork}\n",
      "        1    0.064    0.064    0.619    0.619 extmath.py:716(_incremental_mean_and_var)\n",
      "        8    0.396    0.049    0.396    0.049 {built-in method numpy.array}\n",
      "        2    0.094    0.047    0.319    0.160 nanfunctions.py:43(_replace_nan)\n",
      "        1    0.176    0.176    0.282    0.282 data.py:729(transform)\n",
      "        1    0.075    0.075    0.274    0.274 nanfunctions.py:1385(nanvar)\n",
      "        1    0.000    0.000    0.237    0.237 nanfunctions.py:526(nansum)\n",
      "        2    0.000    0.000    0.220    0.110 validation.py:362(check_array)\n",
      "       10    0.186    0.019    0.186    0.019 {method 'reduce' of 'numpy.ufunc' objects}\n",
      "        5    0.000    0.000    0.152    0.030 fromnumeric.py:1966(sum)\n",
      "        6    0.000    0.000    0.152    0.025 fromnumeric.py:69(_wrapreduction)\n",
      "       21    0.001    0.000    0.045    0.002 util.py:395(_flush_std_streams)\n",
      "       42    0.003    0.000    0.045    0.001 iostream.py:334(flush)\n",
      "        2    0.000    0.000    0.034    0.017 validation.py:40(_assert_all_finite)\n",
      "        2    0.000    0.000    0.034    0.017 {method 'sum' of 'numpy.ndarray' objects}\n",
      "        2    0.000    0.000    0.034    0.017 _methods.py:34(_sum)\n",
      "        1    0.000    0.000    0.027    0.027 context.py:48(Manager)\n",
      "        1    0.000    0.000    0.024    0.024 managers.py:493(start)\n",
      "       42    0.000    0.000    0.024    0.001 threading.py:533(wait)\n",
      "        3    0.023    0.008    0.023    0.008 {built-in method numpy.copyto}\n",
      "       38    0.002    0.000    0.023    0.001 threading.py:263(wait)\n",
      "      281    0.021    0.000    0.021    0.000 {method 'acquire' of '_thread.lock' objects}\n",
      "       87    0.009    0.000    0.017    0.000 iostream.py:195(schedule)\n",
      "\n",
      "\n"
     ]
    }
   ],
   "source": [
    "cl = Cluster(data, n_clusters_low=N_CLUSTER_LOW, n_clusters_high=N_CLUSTER_HIGH, n_clusters_stepsize=1, n_processes=N_PROC)\n",
    "cl.train()"
   ]
  },
  {
   "cell_type": "markdown",
   "metadata": {},
   "source": [
    "Each column in the table below is a single cluster. The rows show the number of images in a particular cluster that belong to each digit (rows).\n",
    "\n",
    "E.g.:\n",
    "\n",
    "Cluster 9 contains both \"7\" and \"9\" which are similar in shape\n",
    "\n",
    "Cluster 2 is dominated by \"0\"s\n",
    "\n",
    "Cluster 1 contains \"4\", \"7\" and \"9\" which are also similar in shape"
   ]
  },
  {
   "cell_type": "code",
   "execution_count": 9,
   "metadata": {},
   "outputs": [
    {
     "data": {
      "text/html": [
       "<div>\n",
       "<style scoped>\n",
       "    .dataframe tbody tr th:only-of-type {\n",
       "        vertical-align: middle;\n",
       "    }\n",
       "\n",
       "    .dataframe tbody tr th {\n",
       "        vertical-align: top;\n",
       "    }\n",
       "\n",
       "    .dataframe thead th {\n",
       "        text-align: right;\n",
       "    }\n",
       "</style>\n",
       "<table border=\"1\" class=\"dataframe\">\n",
       "  <thead>\n",
       "    <tr style=\"text-align: right;\">\n",
       "      <th>clusterid</th>\n",
       "      <th>0</th>\n",
       "      <th>1</th>\n",
       "      <th>2</th>\n",
       "      <th>3</th>\n",
       "      <th>4</th>\n",
       "      <th>5</th>\n",
       "      <th>6</th>\n",
       "      <th>7</th>\n",
       "      <th>8</th>\n",
       "      <th>9</th>\n",
       "    </tr>\n",
       "    <tr>\n",
       "      <th>label</th>\n",
       "      <th></th>\n",
       "      <th></th>\n",
       "      <th></th>\n",
       "      <th></th>\n",
       "      <th></th>\n",
       "      <th></th>\n",
       "      <th></th>\n",
       "      <th></th>\n",
       "      <th></th>\n",
       "      <th></th>\n",
       "    </tr>\n",
       "  </thead>\n",
       "  <tbody>\n",
       "    <tr>\n",
       "      <th>0</th>\n",
       "      <td>79.0</td>\n",
       "      <td>10.0</td>\n",
       "      <td>798.0</td>\n",
       "      <td>21.0</td>\n",
       "      <td>4.0</td>\n",
       "      <td>3407.0</td>\n",
       "      <td>31.0</td>\n",
       "      <td>386.0</td>\n",
       "      <td>527.0</td>\n",
       "      <td>660.0</td>\n",
       "    </tr>\n",
       "    <tr>\n",
       "      <th>1</th>\n",
       "      <td>12.0</td>\n",
       "      <td>1.0</td>\n",
       "      <td>20.0</td>\n",
       "      <td>6.0</td>\n",
       "      <td>3.0</td>\n",
       "      <td>NaN</td>\n",
       "      <td>6527.0</td>\n",
       "      <td>11.0</td>\n",
       "      <td>16.0</td>\n",
       "      <td>146.0</td>\n",
       "    </tr>\n",
       "    <tr>\n",
       "      <th>2</th>\n",
       "      <td>2238.0</td>\n",
       "      <td>44.0</td>\n",
       "      <td>618.0</td>\n",
       "      <td>171.0</td>\n",
       "      <td>25.0</td>\n",
       "      <td>35.0</td>\n",
       "      <td>698.0</td>\n",
       "      <td>1470.0</td>\n",
       "      <td>534.0</td>\n",
       "      <td>125.0</td>\n",
       "    </tr>\n",
       "    <tr>\n",
       "      <th>3</th>\n",
       "      <td>178.0</td>\n",
       "      <td>81.0</td>\n",
       "      <td>3729.0</td>\n",
       "      <td>169.0</td>\n",
       "      <td>69.0</td>\n",
       "      <td>9.0</td>\n",
       "      <td>620.0</td>\n",
       "      <td>991.0</td>\n",
       "      <td>84.0</td>\n",
       "      <td>201.0</td>\n",
       "    </tr>\n",
       "    <tr>\n",
       "      <th>4</th>\n",
       "      <td>45.0</td>\n",
       "      <td>392.0</td>\n",
       "      <td>4.0</td>\n",
       "      <td>3461.0</td>\n",
       "      <td>487.0</td>\n",
       "      <td>38.0</td>\n",
       "      <td>456.0</td>\n",
       "      <td>24.0</td>\n",
       "      <td>111.0</td>\n",
       "      <td>824.0</td>\n",
       "    </tr>\n",
       "    <tr>\n",
       "      <th>5</th>\n",
       "      <td>119.0</td>\n",
       "      <td>71.0</td>\n",
       "      <td>1740.0</td>\n",
       "      <td>283.0</td>\n",
       "      <td>60.0</td>\n",
       "      <td>23.0</td>\n",
       "      <td>460.0</td>\n",
       "      <td>135.0</td>\n",
       "      <td>110.0</td>\n",
       "      <td>2420.0</td>\n",
       "    </tr>\n",
       "    <tr>\n",
       "      <th>6</th>\n",
       "      <td>690.0</td>\n",
       "      <td>5.0</td>\n",
       "      <td>59.0</td>\n",
       "      <td>29.0</td>\n",
       "      <td>1.0</td>\n",
       "      <td>196.0</td>\n",
       "      <td>395.0</td>\n",
       "      <td>11.0</td>\n",
       "      <td>4421.0</td>\n",
       "      <td>111.0</td>\n",
       "    </tr>\n",
       "    <tr>\n",
       "      <th>7</th>\n",
       "      <td>6.0</td>\n",
       "      <td>761.0</td>\n",
       "      <td>10.0</td>\n",
       "      <td>1443.0</td>\n",
       "      <td>3444.0</td>\n",
       "      <td>19.0</td>\n",
       "      <td>456.0</td>\n",
       "      <td>12.0</td>\n",
       "      <td>2.0</td>\n",
       "      <td>112.0</td>\n",
       "    </tr>\n",
       "    <tr>\n",
       "      <th>8</th>\n",
       "      <td>92.0</td>\n",
       "      <td>93.0</td>\n",
       "      <td>1759.0</td>\n",
       "      <td>340.0</td>\n",
       "      <td>119.0</td>\n",
       "      <td>37.0</td>\n",
       "      <td>1153.0</td>\n",
       "      <td>70.0</td>\n",
       "      <td>32.0</td>\n",
       "      <td>2156.0</td>\n",
       "    </tr>\n",
       "    <tr>\n",
       "      <th>9</th>\n",
       "      <td>12.0</td>\n",
       "      <td>453.0</td>\n",
       "      <td>97.0</td>\n",
       "      <td>2951.0</td>\n",
       "      <td>1946.0</td>\n",
       "      <td>36.0</td>\n",
       "      <td>311.0</td>\n",
       "      <td>7.0</td>\n",
       "      <td>5.0</td>\n",
       "      <td>131.0</td>\n",
       "    </tr>\n",
       "  </tbody>\n",
       "</table>\n",
       "</div>"
      ],
      "text/plain": [
       "clusterid       0      1       2       3       4       5       6       7  \\\n",
       "label                                                                      \n",
       "0            79.0   10.0   798.0    21.0     4.0  3407.0    31.0   386.0   \n",
       "1            12.0    1.0    20.0     6.0     3.0     NaN  6527.0    11.0   \n",
       "2          2238.0   44.0   618.0   171.0    25.0    35.0   698.0  1470.0   \n",
       "3           178.0   81.0  3729.0   169.0    69.0     9.0   620.0   991.0   \n",
       "4            45.0  392.0     4.0  3461.0   487.0    38.0   456.0    24.0   \n",
       "5           119.0   71.0  1740.0   283.0    60.0    23.0   460.0   135.0   \n",
       "6           690.0    5.0    59.0    29.0     1.0   196.0   395.0    11.0   \n",
       "7             6.0  761.0    10.0  1443.0  3444.0    19.0   456.0    12.0   \n",
       "8            92.0   93.0  1759.0   340.0   119.0    37.0  1153.0    70.0   \n",
       "9            12.0  453.0    97.0  2951.0  1946.0    36.0   311.0     7.0   \n",
       "\n",
       "clusterid       8       9  \n",
       "label                      \n",
       "0           527.0   660.0  \n",
       "1            16.0   146.0  \n",
       "2           534.0   125.0  \n",
       "3            84.0   201.0  \n",
       "4           111.0   824.0  \n",
       "5           110.0  2420.0  \n",
       "6          4421.0   111.0  \n",
       "7             2.0   112.0  \n",
       "8            32.0  2156.0  \n",
       "9             5.0   131.0  "
      ]
     },
     "execution_count": 9,
     "metadata": {},
     "output_type": "execute_result"
    }
   ],
   "source": [
    "pred = cl.models_dict[10].predict(cl.data_normalized)\n",
    "labels = MNIST('./', download=True).train_labels.numpy()\n",
    "\n",
    "comp = pd.DataFrame({'clusterid': pred, 'label': labels})\n",
    "comp['count'] = 1\n",
    "pd.pivot_table(comp, index='label', columns='clusterid', values='count', aggfunc='sum')"
   ]
  },
  {
   "cell_type": "markdown",
   "metadata": {},
   "source": [
    "One method to find the optimal number of clusters is to look at the so-called elbow plot of the inertia (sum of distances of each point from its cluster's center) vs the number of clusters. As the number of clusters approaches the number of data points, inertia approaches 0 (since each point is its own clusters). Often, there is a num_cluster values at which the plot shows a dramatic change in slope (slope becomes less negative i.e. increases). This doesn't happen here which is expected since even some variation in an image (pixel-wise translation) can result in a big increase in Euclidean distance but none in the label.\n",
    "\n",
    "One way to automatically identify the elbow plot is to split the number of clusters axis at different points and fit both the left and right side of the point with linear models. If there's a sharp elbow, both fits should be very good leading to a local maximum of the average R^2 metric. This is implemented in Cluster.find_elbow."
   ]
  },
  {
   "cell_type": "code",
   "execution_count": 10,
   "metadata": {},
   "outputs": [
    {
     "data": {
      "text/plain": [
       "[<matplotlib.lines.Line2D at 0x7f20e78978d0>]"
      ]
     },
     "execution_count": 10,
     "metadata": {},
     "output_type": "execute_result"
    },
    {
     "data": {
      "image/png": "[encoded data removed]",
      "text/plain": [
       "<Figure size 432x288 with 1 Axes>"
      ]
     },
     "metadata": {
      "needs_background": "light"
     },
     "output_type": "display_data"
    }
   ],
   "source": [
    "plt.plot(cl.inertia_dict.keys(), cl.inertia_dict.values(), 'p')"
   ]
  },
  {
   "cell_type": "code",
   "execution_count": 11,
   "metadata": {},
   "outputs": [],
   "source": [
    "threshold_cuts, score_means = cl.find_elbow()"
   ]
  },
  {
   "cell_type": "code",
   "execution_count": 14,
   "metadata": {},
   "outputs": [
    {
     "data": {
      "text/plain": [
       "[<matplotlib.lines.Line2D at 0x7f20e7646d30>]"
      ]
     },
     "execution_count": 14,
     "metadata": {},
     "output_type": "execute_result"
    },
    {
     "data": {
      "image/png": "[encoded data removed]",
      "text/plain": [
       "<Figure size 432x288 with 1 Axes>"
      ]
     },
     "metadata": {
      "needs_background": "light"
     },
     "output_type": "display_data"
    }
   ],
   "source": [
    "plt.plot(threshold_cuts, score_means)"
   ]
  },
  {
   "cell_type": "markdown",
   "metadata": {},
   "source": [
    "In the plot above, the best average $R^2$ score at n_clusters = 10 indicating we should pick 10 as the value for num_clusters."
   ]
  },
  {
   "cell_type": "code",
   "execution_count": null,
   "metadata": {},
   "outputs": [],
   "source": []
  }
 ],
 "metadata": {
  "kernelspec": {
   "display_name": "Python 3",
   "language": "python",
   "name": "python3"
  },
  "language_info": {
   "codemirror_mode": {
    "name": "ipython",
    "version": 3
   },
   "file_extension": ".py",
   "mimetype": "text/x-python",
   "name": "python",
   "nbconvert_exporter": "python",
   "pygments_lexer": "ipython3",
   "version": "3.6.12"
  }
 },
 "nbformat": 4,
 "nbformat_minor": 2
}
